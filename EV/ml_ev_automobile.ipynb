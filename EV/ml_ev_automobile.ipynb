{
 "cells": [
  {
   "cell_type": "code",
   "execution_count": 25,
   "metadata": {},
   "outputs": [
    {
     "data": {
      "text/plain": [
       "(                AYRO      CENN     EVTV      FUV    KNDI     NIO     TSLA  \\\n",
       " 2018-09-17  136.8000  433500.0  12.8999  81.1999  4.1999  8.5000  19.6560   \n",
       " 2018-09-18  132.0000  417000.0  13.0799  88.0000  4.5999  7.6799  18.9973   \n",
       " 2018-09-19  134.3999  432000.0  13.0399  85.0000  4.9499  8.5000  19.9346   \n",
       " 2018-09-20  139.1999  438000.0  13.7600  87.5999  5.6500  8.7799  19.8886   \n",
       " 2018-09-21  127.1999  399000.0  12.5600  78.4000  5.4000  8.5900  19.9400   \n",
       " \n",
       "              WKHS       F       GM      HMC    HYMTF    MBGAF    NSANY  \\\n",
       " 2018-09-17  277.5  6.7284  31.9476  24.5411  30.4234  45.8507  19.0300   \n",
       " 2018-09-18  267.5  6.7496  32.0205  25.1424  44.8792  46.4202  19.3500   \n",
       " 2018-09-19  272.5  6.8905  32.5953  25.6420  44.8792  46.8973  19.4099   \n",
       " 2018-09-20  277.5  6.9116  32.9146  25.9130  44.8792  48.1859  19.5300   \n",
       " 2018-09-21  267.5  6.9398  32.2212  26.1416  33.8436  48.2215  19.6499   \n",
       " \n",
       "               STLA        TM    VWAGY  Gasoline_Price  Brent_Price  \n",
       " 2018-09-17  9.3422  103.6339  11.8526           2.771        78.22  \n",
       " 2018-09-18  9.4279  105.7915  12.2489           2.771        79.25  \n",
       " 2018-09-19  9.6367  106.0369  12.4002           2.771        79.43  \n",
       " 2018-09-20  9.8187  105.7238  12.7965           2.771        79.03  \n",
       " 2018-09-21  9.7920  105.5292  12.9334           2.771        78.90  ,\n",
       " (1676, 19))"
      ]
     },
     "execution_count": 25,
     "metadata": {},
     "output_type": "execute_result"
    }
   ],
   "source": [
    "import pandas as pd\n",
    "import numpy as np\n",
    "\n",
    "# 1. Load the data\n",
    "gas_df = pd.read_csv(\"datathon data/weekly_gasoline_prices.csv\")\n",
    "ev_df = pd.read_csv(\"datathon data/Filtered_EV_Stock_Data_Truncated_4dp_From_2018-09-12.csv\")\n",
    "auto_df = pd.read_csv(\"datathon data/Filtered_Traditional_Auto_Stock_Data_Truncated_4dp_From_2018-09-12.csv\")\n",
    "brent_df = pd.read_csv(\"datathon data/crude_oil/BRENT.csv\")\n",
    "\n",
    "# 2. Parse dates\n",
    "for df in (ev_df, auto_df, gas_df, brent_df):\n",
    "    df[\"Date\"] = pd.to_datetime(df[\"Date\"])\n",
    "\n",
    "# 3. Drop duplicate dates in each\n",
    "ev_df = ev_df.drop_duplicates(subset=\"Date\")\n",
    "auto_df = auto_df.drop_duplicates(subset=\"Date\")\n",
    "gas_df = gas_df.drop_duplicates(subset=\"Date\")\n",
    "brent_df = brent_df.drop_duplicates(subset=\"Date\")\n",
    "\n",
    "# 4. Set Date as index and sort\n",
    "ev_df = ev_df.set_index(\"Date\").sort_index()\n",
    "auto_df = auto_df.set_index(\"Date\").sort_index()\n",
    "\n",
    "gas_df = gas_df[[\"Date\", \"Price\"]].rename(columns={\"Price\": \"Gasoline_Price\"}).set_index(\"Date\").sort_index()\n",
    "brent_df = brent_df[[\"Date\", \"Price\"]].rename(columns={\"Price\": \"Brent_Price\"}).set_index(\"Date\").sort_index()\n",
    "\n",
    "# 5. Create a business-day index\n",
    "start = max(ev_df.index.min(), auto_df.index.min())\n",
    "end   = min(ev_df.index.max(), auto_df.index.max())\n",
    "bidx  = pd.date_range(start=start, end=end, freq=\"B\")\n",
    "\n",
    "# 6. Reindex & forward‑fill gasoline & brent\n",
    "gas_daily   = gas_df.reindex(bidx).ffill()\n",
    "brent_daily = brent_df.reindex(bidx).ffill()\n",
    "\n",
    "# 7. Reindex stock data to business days\n",
    "ev_daily   = ev_df.reindex(bidx)\n",
    "auto_daily = auto_df.reindex(bidx)\n",
    "\n",
    "# 8. Merge all into one DataFrame\n",
    "merged = ev_daily.join(auto_daily, how=\"inner\") \\\n",
    "                 .join(gas_daily, how=\"inner\") \\\n",
    "                 .join(brent_daily, how=\"inner\")\n",
    "\n",
    "# 9. Drop any remaining missing rows\n",
    "merged = merged.dropna()\n",
    "\n",
    "# Show the cleaned & merged DataFrame\n",
    "merged.head(), merged.shape\n"
   ]
  },
  {
   "cell_type": "code",
   "execution_count": 26,
   "metadata": {},
   "outputs": [],
   "source": [
    "gas_interp = gas_df['Gasoline_Price'] \\\n",
    "    .reindex(bidx) \\\n",
    "    .interpolate(method='time') \\\n",
    "    .rename('Gas_interp')\n",
    "\n",
    "merged = merged.join(gas_interp, how='inner')\n",
    "merged['Gas_interp_lr'] = np.log(merged['Gas_interp'] / merged['Gas_interp'].shift(1))\n",
    "\n"
   ]
  },
  {
   "cell_type": "code",
   "execution_count": 27,
   "metadata": {},
   "outputs": [],
   "source": [
    "brent_interp = (\n",
    "    brent_df['Brent_Price']\n",
    "    .reindex(bidx)               # align to daily business days\n",
    "    .interpolate(method='time')  # linearly fill missing days\n",
    "    .rename('Brent_interp')\n",
    ")\n",
    "\n",
    "# 2) Merge into your main DataFrame\n",
    "merged = merged.join(brent_interp, how='inner')\n",
    "merged['Brent_interp_lr'] = np.log(merged['Brent_interp'] / merged['Brent_interp'].shift(1))"
   ]
  },
  {
   "cell_type": "code",
   "execution_count": 28,
   "metadata": {},
   "outputs": [
    {
     "name": "stdout",
     "output_type": "stream",
     "text": [
      "            Gas_interp  Gas_interp_lr  Gas_i_lr_lag_1  Gas_i_lr_roll_mean_3\n",
      "2018-10-05    2.814857       0.001676        0.001679              0.001679\n",
      "2018-10-08    2.829000       0.005012        0.001676              0.002789\n",
      "2018-10-09    2.825714      -0.001162        0.005012              0.001842\n",
      "2018-10-10    2.822429      -0.001163       -0.001162              0.000895\n",
      "2018-10-11    2.819143      -0.001165       -0.001163             -0.001163\n",
      "            Brent_interp  Brent_interp_lr  Brent_i_lr_lag_1  \\\n",
      "2018-10-05         85.12        -0.011099          0.007230   \n",
      "2018-10-08         84.22        -0.010630         -0.011099   \n",
      "2018-10-09         85.16         0.011099         -0.010630   \n",
      "2018-10-10         83.82        -0.015860          0.011099   \n",
      "2018-10-11         81.35        -0.029911         -0.015860   \n",
      "\n",
      "            Brent_i_lr_roll_mean_3  \n",
      "2018-10-05               -0.001991  \n",
      "2018-10-08               -0.004833  \n",
      "2018-10-09               -0.003543  \n",
      "2018-10-10               -0.005130  \n",
      "2018-10-11               -0.011557  \n",
      "New shape after all features: (1662, 69)\n"
     ]
    }
   ],
   "source": [
    "\n",
    "\n",
    "# --- 1) Compute continuous log‐returns BEFORE creating any lags/rolls ---\n",
    "merged['Gas_log_ret']   = np.log(merged['Gasoline_Price']  / merged['Gasoline_Price'].shift(1))\n",
    "merged['Brent_log_ret'] = np.log(merged['Brent_Price']      / merged['Brent_Price'].shift(1))\n",
    "\n",
    "# --- 2) Define lag days and rolling windows ---\n",
    "lag_days     = [1, 2, 3, 5, 7]\n",
    "roll_windows = [3, 7, 14]\n",
    "\n",
    "for lag in lag_days:\n",
    "    merged[f'Gas_lag_{lag}']    = merged['Gasoline_Price'].shift(lag)\n",
    "    merged[f'Brent_lag_{lag}']  = merged['Brent_Price'].shift(lag)\n",
    "\n",
    "for w in roll_windows:\n",
    "    merged[f'Gas_roll_mean_{w}']    = merged['Gasoline_Price'].rolling(w).mean()\n",
    "    merged[f'Gas_roll_std_{w}']     = merged['Gasoline_Price'].rolling(w).std()\n",
    "    merged[f'Brent_roll_mean_{w}']  = merged['Brent_Price'].rolling(w).mean()\n",
    "    merged[f'Brent_roll_std_{w}']   = merged['Brent_Price'].rolling(w).std()\n",
    "\n",
    "# 4) Build lags & rolling stats on the **interpolated** log-returns\n",
    "for lag in lag_days:\n",
    "    merged[f'Gas_i_lr_lag_{lag}']   = merged['Gas_interp_lr'].shift(lag)\n",
    "    merged[f'Brent_i_lr_lag_{lag}'] = merged['Brent_interp_lr'].shift(lag)\n",
    "\n",
    "for w in roll_windows:\n",
    "    merged[f'Gas_i_lr_roll_mean_{w}']    = merged['Gas_interp_lr'].rolling(w).mean()\n",
    "    merged[f'Gas_i_lr_roll_std_{w}']     = merged['Gas_interp_lr'].rolling(w).std()\n",
    "    merged[f'Brent_i_lr_roll_mean_{w}']  = merged['Brent_interp_lr'].rolling(w).mean()\n",
    "    merged[f'Brent_i_lr_roll_std_{w}']   = merged['Brent_interp_lr'].rolling(w).std()\n",
    "\n",
    "# 5) Drop any rows with NaNs (from shifts/rolls/interpolation)\n",
    "merged_fe = merged.dropna()\n",
    "\n",
    "# 6) Sanity check\n",
    "print(merged_fe[['Gas_interp', 'Gas_interp_lr', 'Gas_i_lr_lag_1', 'Gas_i_lr_roll_mean_3']].head())\n",
    "print(merged_fe[['Brent_interp', 'Brent_interp_lr', 'Brent_i_lr_lag_1', 'Brent_i_lr_roll_mean_3']].head())\n",
    "print(\"New shape after all features:\", merged_fe.shape)\n",
    "\n"
   ]
  },
  {
   "cell_type": "code",
   "execution_count": 29,
   "metadata": {},
   "outputs": [],
   "source": [
    "import matplotlib.pyplot as plt\n",
    "from sklearn.model_selection import train_test_split\n",
    "from sklearn.linear_model    import LinearRegression\n",
    "from sklearn.metrics         import mean_squared_error, mean_absolute_error\n",
    "import numpy as np"
   ]
  },
  {
   "cell_type": "code",
   "execution_count": 30,
   "metadata": {},
   "outputs": [
    {
     "data": {
      "image/png": "[encoded data removed]",
      "text/plain": [
       "<Figure size 640x480 with 1 Axes>"
      ]
     },
     "metadata": {},
     "output_type": "display_data"
    },
    {
     "data": {
      "image/png": "[encoded data removed]",
      "text/plain": [
       "<Figure size 640x480 with 1 Axes>"
      ]
     },
     "metadata": {},
     "output_type": "display_data"
    },
    {
     "name": "stdout",
     "output_type": "stream",
     "text": [
      "Linear Regression on TSLA:\n",
      "  • RMSE = 129.144\n",
      "  • MAE  = 101.625\n",
      "  • R²   = -1.665\n"
     ]
    }
   ],
   "source": [
    "# 1. Pick a target stock to predict (e.g. Tesla)\n",
    "target = 'TSLA'\n",
    "\n",
    "# 2. Select your feature columns (all the lag/rolling features + prices)\n",
    "feature_cols = [c for c in merged_fe.columns\n",
    "                if c.startswith('Gas_') or c.startswith('Brent_')]\n",
    "\n",
    "X = merged_fe[feature_cols]\n",
    "y = merged_fe[target]\n",
    "\n",
    "# 3. VISUALIZE feature distributions\n",
    "#    We'll show 3-day rolling-mean of gasoline and 1-day lag of Brent as examples.\n",
    "\n",
    "# 3a) Gas_roll_mean_3\n",
    "plt.figure()\n",
    "plt.hist(merged_fe['Gas_roll_mean_3'], bins=50)\n",
    "plt.title(\"Distribution of 3-day Rolling Mean of Gasoline Price\")\n",
    "plt.xlabel(\"3-day Mean ($/gal)\")\n",
    "plt.ylabel(\"Frequency\")\n",
    "plt.show()\n",
    "\n",
    "# 3b) Brent_lag_1\n",
    "plt.figure()\n",
    "plt.hist(merged_fe['Brent_lag_1'], bins=50)\n",
    "plt.title(\"Distribution of 1-day Lagged Brent Price\")\n",
    "plt.xlabel(\"Brent Price 1 Day Ago ($/bbl)\")\n",
    "plt.ylabel(\"Frequency\")\n",
    "plt.show()\n",
    "\n",
    "\n",
    "# 4. SPLIT into train & test\n",
    "#    Use an 80/20 split, no shuffling (time series)\n",
    "split_idx = int(len(X)*0.8)\n",
    "X_train, X_test = X.iloc[:split_idx], X.iloc[split_idx:]\n",
    "y_train, y_test = y.iloc[:split_idx], y.iloc[split_idx:]\n",
    "\n",
    "\n",
    "# 5. BASELINE MODEL: Linear Regression\n",
    "model = LinearRegression()\n",
    "model.fit(X_train, y_train)\n",
    "\n",
    "# 6. PREDICT & EVALUATE\n",
    "y_pred = model.predict(X_test)\n",
    "rmse = np.sqrt(mean_squared_error(y_test, y_pred))\n",
    "mae  = mean_absolute_error(    y_test, y_pred)\n",
    "\n",
    "print(f\"Linear Regression on {target}:\")\n",
    "print(f\"  • RMSE = {rmse:.3f}\")\n",
    "print(f\"  • MAE  = {mae:.3f}\")\n",
    "print(f\"  • R²   = {model.score(X_test, y_test):.3f}\")"
   ]
  },
  {
   "cell_type": "code",
   "execution_count": 31,
   "metadata": {},
   "outputs": [
    {
     "name": "stderr",
     "output_type": "stream",
     "text": [
      "/var/folders/n7/sn8w6zgn143919fscz6p_xnm0000gn/T/ipykernel_62479/1004843680.py:3: SettingWithCopyWarning: \n",
      "A value is trying to be set on a copy of a slice from a DataFrame.\n",
      "Try using .loc[row_indexer,col_indexer] = value instead\n",
      "\n",
      "See the caveats in the documentation: https://pandas.pydata.org/pandas-docs/stable/user_guide/indexing.html#returning-a-view-versus-a-copy\n",
      "  merged_fe[f'TSLA_lag_{lag}'] = merged_fe['TSLA'].shift(lag)\n",
      "/var/folders/n7/sn8w6zgn143919fscz6p_xnm0000gn/T/ipykernel_62479/1004843680.py:3: SettingWithCopyWarning: \n",
      "A value is trying to be set on a copy of a slice from a DataFrame.\n",
      "Try using .loc[row_indexer,col_indexer] = value instead\n",
      "\n",
      "See the caveats in the documentation: https://pandas.pydata.org/pandas-docs/stable/user_guide/indexing.html#returning-a-view-versus-a-copy\n",
      "  merged_fe[f'TSLA_lag_{lag}'] = merged_fe['TSLA'].shift(lag)\n",
      "/var/folders/n7/sn8w6zgn143919fscz6p_xnm0000gn/T/ipykernel_62479/1004843680.py:3: SettingWithCopyWarning: \n",
      "A value is trying to be set on a copy of a slice from a DataFrame.\n",
      "Try using .loc[row_indexer,col_indexer] = value instead\n",
      "\n",
      "See the caveats in the documentation: https://pandas.pydata.org/pandas-docs/stable/user_guide/indexing.html#returning-a-view-versus-a-copy\n",
      "  merged_fe[f'TSLA_lag_{lag}'] = merged_fe['TSLA'].shift(lag)\n",
      "/var/folders/n7/sn8w6zgn143919fscz6p_xnm0000gn/T/ipykernel_62479/1004843680.py:6: SettingWithCopyWarning: \n",
      "A value is trying to be set on a copy of a slice from a DataFrame.\n",
      "Try using .loc[row_indexer,col_indexer] = value instead\n",
      "\n",
      "See the caveats in the documentation: https://pandas.pydata.org/pandas-docs/stable/user_guide/indexing.html#returning-a-view-versus-a-copy\n",
      "  merged_fe['TSLA_ret_1'] = merged_fe['TSLA'].pct_change(1)\n",
      "/var/folders/n7/sn8w6zgn143919fscz6p_xnm0000gn/T/ipykernel_62479/1004843680.py:9: SettingWithCopyWarning: \n",
      "A value is trying to be set on a copy of a slice from a DataFrame.\n",
      "Try using .loc[row_indexer,col_indexer] = value instead\n",
      "\n",
      "See the caveats in the documentation: https://pandas.pydata.org/pandas-docs/stable/user_guide/indexing.html#returning-a-view-versus-a-copy\n",
      "  merged_fe['TSLA_vol_7'] = merged_fe['TSLA_ret_1'].rolling(7).std()\n"
     ]
    }
   ],
   "source": [
    "# --- 1) Engineer stock-specific features for TSLA ---\n",
    "for lag in [1,2,3]:\n",
    "    merged_fe[f'TSLA_lag_{lag}'] = merged_fe['TSLA'].shift(lag)\n",
    "\n",
    "# 1-day % return\n",
    "merged_fe['TSLA_ret_1'] = merged_fe['TSLA'].pct_change(1)\n",
    "\n",
    "# 7-day rolling volatility of returns\n",
    "merged_fe['TSLA_vol_7'] = merged_fe['TSLA_ret_1'].rolling(7).std()\n",
    "\n",
    "# Drop rows with any NaNs (from shift/pct_change/rolling)\n",
    "df_model = merged_fe.dropna()"
   ]
  },
  {
   "cell_type": "code",
   "execution_count": 32,
   "metadata": {},
   "outputs": [
    {
     "name": "stdout",
     "output_type": "stream",
     "text": [
      "New Linear Regression on TSLA:\n",
      " • RMSE = 5.422\n",
      " • MAE  = 3.449\n",
      " • R²   = 0.995\n"
     ]
    }
   ],
   "source": [
    "from sklearn.linear_model import LinearRegression\n",
    "from sklearn.metrics      import mean_squared_error, mean_absolute_error\n",
    "import numpy as np\n",
    "\n",
    "# Features = energy features + our new TSLA history features\n",
    "feature_cols = [c for c in df_model.columns \n",
    "                if c.startswith('Gas_') \n",
    "                or c.startswith('Brent_')\n",
    "                or c.startswith('TSLA_lag_')\n",
    "                or c=='TSLA_ret_1'\n",
    "                or c=='TSLA_vol_7']\n",
    "\n",
    "X = df_model[feature_cols]\n",
    "y = df_model['TSLA']\n",
    "\n",
    "# 80/20 time-series split\n",
    "split = int(len(X)*0.8)\n",
    "X_train, X_test = X.iloc[:split], X.iloc[split:]\n",
    "y_train, y_test = y.iloc[:split], y.iloc[split:]\n",
    "\n",
    "# Fit & evaluate\n",
    "model = LinearRegression().fit(X_train, y_train)\n",
    "y_pred = model.predict(X_test)\n",
    "\n",
    "rmse = np.sqrt(mean_squared_error(y_test, y_pred))\n",
    "mae  = mean_absolute_error(y_test, y_pred)\n",
    "r2   = model.score(X_test, y_test)\n",
    "\n",
    "print(f\"New Linear Regression on TSLA:\")\n",
    "print(f\" • RMSE = {rmse:.3f}\")\n",
    "print(f\" • MAE  = {mae:.3f}\")\n",
    "print(f\" • R²   = {r2:.3f}\")\n"
   ]
  },
  {
   "cell_type": "code",
   "execution_count": 33,
   "metadata": {},
   "outputs": [
    {
     "name": "stdout",
     "output_type": "stream",
     "text": [
      "Random Forest on TSLA:\n",
      " • RMSE = 17.026\n",
      " • MAE  = 9.864\n",
      " • R²   = 0.954\n"
     ]
    }
   ],
   "source": [
    "from sklearn.ensemble    import RandomForestRegressor\n",
    "from sklearn.metrics     import mean_squared_error, mean_absolute_error\n",
    "import numpy as np\n",
    "\n",
    "# Use the same train/test split from df_model\n",
    "rf = RandomForestRegressor(n_estimators=100, \n",
    "                           max_depth=5, \n",
    "                           random_state=42,\n",
    "                           n_jobs=-1)\n",
    "rf.fit(X_train, y_train)\n",
    "\n",
    "y_rf = rf.predict(X_test)\n",
    "rmse_rf = np.sqrt(mean_squared_error(y_test, y_rf))\n",
    "mae_rf  = mean_absolute_error(y_test, y_rf)\n",
    "r2_rf   = rf.score(X_test, y_test)\n",
    "\n",
    "print(\"Random Forest on TSLA:\")\n",
    "print(f\" • RMSE = {rmse_rf:.3f}\")\n",
    "print(f\" • MAE  = {mae_rf:.3f}\")\n",
    "print(f\" • R²   = {r2_rf:.3f}\")"
   ]
  },
  {
   "cell_type": "code",
   "execution_count": 34,
   "metadata": {},
   "outputs": [
    {
     "data": {
      "image/png": "[encoded data removed]",
      "text/plain": [
       "<Figure size 600x400 with 1 Axes>"
      ]
     },
     "metadata": {},
     "output_type": "display_data"
    }
   ],
   "source": [
    "import pandas as pd\n",
    "import matplotlib.pyplot as plt\n",
    "\n",
    "# Extract and sort importances\n",
    "imp = pd.Series(rf.feature_importances_, index=feature_cols)\n",
    "imp = imp.sort_values(ascending=False).head(10)\n",
    "\n",
    "# Plot top‐10\n",
    "plt.figure(figsize=(6,4))\n",
    "imp.plot.barh()\n",
    "plt.title(\"Top 10 Feature Importances (RF)\")\n",
    "plt.xlabel(\"Relative Importance\")\n",
    "plt.gca().invert_yaxis()\n",
    "plt.show()"
   ]
  },
  {
   "cell_type": "code",
   "execution_count": 35,
   "metadata": {},
   "outputs": [],
   "source": [
    "# Target = TSLA_ret_1\n",
    "y_ret = df_model['TSLA_ret_1'].dropna()\n",
    "X_ret = df_model.loc[y_ret.index, feature_cols]  # align indices\n",
    "\n",
    "# Re-split chronologically\n",
    "split = int(len(X_ret)*0.8)\n",
    "Xr_train, Xr_test = X_ret.iloc[:split], X_ret.iloc[split:]\n",
    "yr_train, yr_test = y_ret.iloc[:split], y_ret.iloc[split:]\n",
    "\n",
    "# Fit RF again\n",
    "rf_ret = RandomForestRegressor(100, max_depth=5, random_state=42)\n",
    "rf_ret.fit(Xr_train, yr_train)\n",
    "pred_ret = rf_ret.predict(Xr_test)\n",
    "\n",
    "# Evaluate\n",
    "rmse_r = np.sqrt(mean_squared_error(yr_test, pred_ret))\n",
    "mae_r  = mean_absolute_error(    yr_test, pred_ret)\n",
    "r2_r   = rf_ret.score(Xr_test, yr_test)\n",
    "\n",
    "print(\"RF on TSLA Returns:\")\n",
    "print(f\" • RMSE = {rmse_r:.4f}\")\n",
    "print(f\" • MAE  = {mae_r:.4f}\")\n",
    "print(f\" • R²   = {r2_r:.3f}\")"
   ]
  },
  {
   "cell_type": "code",
   "execution_count": null,
   "metadata": {},
   "outputs": [],
   "source": [
    "ev_tickers   = ['AYRO','CENN','EVTV','FUV','KNDI','NIO','TSLA','WKHS']\n",
    "auto_tickers = ['F','GM','HMC','HYMTF','MBGAF','NSANY','STLA','TM','VWAGY']  # adjust to your exact set\n",
    "\n",
    "# Compute daily sector “price” as the mean across tickers\n",
    "merged['EV_index']   = merged[ev_tickers].mean(axis=1)\n",
    "merged['Auto_index'] = merged[auto_tickers].mean(axis=1)"
   ]
  },
  {
   "cell_type": "code",
   "execution_count": null,
   "metadata": {},
   "outputs": [],
   "source": [
    "df_sect = merged.copy()\n",
    "\n",
    "# 2a) Lagged price, returns & rolling vol for the index\n",
    "for lag in [1,2,3]:\n",
    "    df_sect[f'EVidx_lag_{lag}'] = df_sect['EV_index'].shift(lag)\n",
    "\n",
    "df_sect['EVidx_ret_1']  = df_sect['EV_index'].pct_change(1)\n",
    "df_sect['EVidx_vol_7']  = df_sect['EVidx_ret_1'].rolling(7).std()\n",
    "\n",
    "# 2b) Keep the energy‐price features we built earlier\n",
    "feat_energy = [c for c in df_sect.columns if c.startswith('Gas_') or c.startswith('Brent_')]\n",
    "feat_evidx  = [c for c in df_sect.columns if c.startswith('EVidx_')]\n",
    "\n",
    "# Drop NaNs\n",
    "df_sect = df_sect.dropna(subset=feat_energy + feat_evidx + ['EV_index'])"
   ]
  },
  {
   "cell_type": "code",
   "execution_count": null,
   "metadata": {},
   "outputs": [
    {
     "name": "stdout",
     "output_type": "stream",
     "text": [
      "LR on EV_index: RMSE=187.891 R²=-505.991\n"
     ]
    },
    {
     "name": "stdout",
     "output_type": "stream",
     "text": [
      "RF on EV_index: RMSE=37.809 R²=-19.529\n"
     ]
    }
   ],
   "source": [
    "X = df_sect[feat_energy + feat_evidx]\n",
    "y = df_sect['EV_index']\n",
    "\n",
    "# chronological 80/20 split\n",
    "split = int(len(X)*0.8)\n",
    "X_train, X_test = X.iloc[:split], X.iloc[split:]\n",
    "y_train, y_test = y.iloc[:split], y.iloc[split:]\n",
    "\n",
    "# — Linear Regression —\n",
    "lr = LinearRegression().fit(X_train, y_train)\n",
    "y_lr = lr.predict(X_test)\n",
    "print(\"LR on EV_index:\",\n",
    "      f\"RMSE={np.sqrt(mean_squared_error(y_test,y_lr)):.3f}\",\n",
    "      f\"R²={lr.score(X_test,y_test):.3f}\")\n",
    "\n",
    "# — Random Forest —\n",
    "rf = RandomForestRegressor(100, max_depth=5, random_state=42, n_jobs=-1)\n",
    "rf.fit(X_train, y_train)\n",
    "y_rf = rf.predict(X_test)\n",
    "print(\"RF on EV_index:\",\n",
    "      f\"RMSE={np.sqrt(mean_squared_error(y_test,y_rf)):.3f}\",\n",
    "      f\"R²={rf.score(X_test,y_test):.3f}\")"
   ]
  },
  {
   "cell_type": "code",
   "execution_count": null,
   "metadata": {},
   "outputs": [
    {
     "name": "stdout",
     "output_type": "stream",
     "text": [
      "LR on Auto_index: RMSE=0.183 R²=0.998\n",
      "RF on Auto_index: RMSE=2.581 R²=0.589\n"
     ]
    }
   ],
   "source": [
    "# --- 1) Compute the Auto sector index ---\n",
    "auto_tickers = ['F','GM','HMC','HYMTF','MBGAF','NSANY','STLA','TM','VWAGY']  # adjust as needed\n",
    "merged['Auto_index'] = merged[auto_tickers].mean(axis=1)\n",
    "\n",
    "# --- 2) Engineer features on the Auto_index ---\n",
    "df_auto = merged.copy()\n",
    "\n",
    "# 2a) Lagged price for Auto_index\n",
    "for lag in [1, 2, 3]:\n",
    "    df_auto[f'Autoidx_lag_{lag}'] = df_auto['Auto_index'].shift(lag)\n",
    "\n",
    "# 2b) 1-day return and 7-day rolling vol for Auto_index\n",
    "df_auto['Autoidx_ret_1'] = df_auto['Auto_index'].pct_change(1)\n",
    "df_auto['Autoidx_vol_7'] = df_auto['Autoidx_ret_1'].rolling(7).std()\n",
    "\n",
    "# 2c) Keep the existing energy features\n",
    "feat_energy = [c for c in df_auto.columns if c.startswith('Gas_') or c.startswith('Brent_')]\n",
    "feat_autoidx = [c for c in df_auto.columns if c.startswith('Autoidx_')]\n",
    "\n",
    "# 2d) Drop any rows with NaNs in our feature or target columns\n",
    "df_auto = df_auto.dropna(subset=feat_energy + feat_autoidx + ['Auto_index'])\n",
    "\n",
    "# --- 3) Train/Test split & Baseline models ---\n",
    "from sklearn.linear_model    import LinearRegression\n",
    "from sklearn.ensemble        import RandomForestRegressor\n",
    "from sklearn.metrics         import mean_squared_error\n",
    "import numpy as np\n",
    "\n",
    "X = df_auto[feat_energy + feat_autoidx]\n",
    "y = df_auto['Auto_index']\n",
    "\n",
    "# chronological 80/20 split\n",
    "split = int(len(X) * 0.8)\n",
    "X_train, X_test = X.iloc[:split], X.iloc[split:]\n",
    "y_train, y_test = y.iloc[:split], y.iloc[split:]\n",
    "\n",
    "# — Linear Regression —\n",
    "lr = LinearRegression().fit(X_train, y_train)\n",
    "y_lr = lr.predict(X_test)\n",
    "print(\"LR on Auto_index:\",\n",
    "      f\"RMSE={np.sqrt(mean_squared_error(y_test, y_lr)):.3f}\",\n",
    "      f\"R²={lr.score(X_test, y_test):.3f}\")\n",
    "\n",
    "# — Random Forest —\n",
    "rf = RandomForestRegressor(n_estimators=100,\n",
    "                           max_depth=5,\n",
    "                           random_state=42,\n",
    "                           n_jobs=-1)\n",
    "rf.fit(X_train, y_train)\n",
    "y_rf = rf.predict(X_test)\n",
    "print(\"RF on Auto_index:\",\n",
    "      f\"RMSE={np.sqrt(mean_squared_error(y_test, y_rf)):.3f}\",\n",
    "      f\"R²={rf.score(X_test, y_test):.3f}\")\n"
   ]
  },
  {
   "cell_type": "code",
   "execution_count": null,
   "metadata": {},
   "outputs": [],
   "source": [
    "# Create return targets for the EV index\n",
    "df_sect['EVidx_ret_1'] = df_sect['EV_index'].pct_change(1)\n",
    "df_sect = df_sect.dropna(subset=feat_energy + feat_evidx + ['EVidx_ret_1'])\n",
    "X = df_sect[feat_energy + feat_evidx]\n",
    "y = df_sect['EVidx_ret_1']\n"
   ]
  },
  {
   "cell_type": "code",
   "execution_count": null,
   "metadata": {},
   "outputs": [
    {
     "name": "stdout",
     "output_type": "stream",
     "text": [
      "Fitting 5 folds for each of 24 candidates, totalling 120 fits\n"
     ]
    },
    {
     "name": "stdout",
     "output_type": "stream",
     "text": [
      "→ Best CV MSE (neg): -0.0004525996982055095\n",
      "→ Best hyperparameters: {'learning_rate': 0.01, 'max_depth': 3, 'max_iter': 300, 'min_samples_leaf': 20}\n",
      "\n",
      "Hold-out Results on EVidx returns:\n",
      " • RMSE = 0.00507\n",
      " • MAE  = 0.00226\n",
      " • R²   = 0.985\n"
     ]
    }
   ],
   "source": [
    "import numpy as np\n",
    "import pandas as pd\n",
    "from sklearn.ensemble        import HistGradientBoostingRegressor\n",
    "from sklearn.model_selection import TimeSeriesSplit, GridSearchCV\n",
    "from sklearn.metrics         import mean_squared_error, mean_absolute_error\n",
    "\n",
    "# — 1) Prepare your feature matrix X and return target y —\n",
    "# Assume you already have df_sect with columns feat_energy + feat_evidx and 'EVidx_ret_1'\n",
    "\n",
    "X = df_sect[feat_energy + feat_evidx]\n",
    "y = df_sect['EVidx_ret_1']\n",
    "\n",
    "# — 2) Define a TimeSeriesSplit for CV (no shuffling) —\n",
    "tscv = TimeSeriesSplit(n_splits=5)\n",
    "\n",
    "# — 3) Set up the HGB model and hyperparameter grid —\n",
    "hgb = HistGradientBoostingRegressor(random_state=42)\n",
    "\n",
    "param_grid = {\n",
    "    'max_iter':      [100, 300],       # number of boosting iterations\n",
    "    'max_depth':     [3, 5, 8],        # tree depth\n",
    "    'learning_rate': [0.01, 0.1],      # step size shrinkage\n",
    "    'min_samples_leaf': [20, 50],      # min samples per leaf\n",
    "}\n",
    "\n",
    "# — 4) Wrap in GridSearchCV —\n",
    "grid = GridSearchCV(\n",
    "    estimator=hgb,\n",
    "    param_grid=param_grid,\n",
    "    cv=tscv,\n",
    "    scoring='neg_mean_squared_error',\n",
    "    n_jobs=-1,\n",
    "    verbose=1\n",
    ")\n",
    "\n",
    "# — 5) Fit on your full series (CV happens internally) —\n",
    "grid.fit(X, y)\n",
    "\n",
    "print(\"→ Best CV MSE (neg):\", grid.best_score_)\n",
    "print(\"→ Best hyperparameters:\", grid.best_params_)\n",
    "\n",
    "# — 6) Final evaluation on hold-out 20% (chronological) —\n",
    "split = int(len(X) * 0.8)\n",
    "X_train, X_test = X.iloc[:split], X.iloc[split:]\n",
    "y_train, y_test = y.iloc[:split], y.iloc[split:]\n",
    "\n",
    "best_model = grid.best_estimator_\n",
    "pred = best_model.predict(X_test)\n",
    "\n",
    "rmse = np.sqrt(mean_squared_error(y_test, pred))\n",
    "mae  = mean_absolute_error(y_test, pred)\n",
    "r2   = best_model.score(X_test, y_test)\n",
    "\n",
    "print(f\"\\nHold-out Results on EVidx returns:\")\n",
    "print(f\" • RMSE = {rmse:.5f}\")\n",
    "print(f\" • MAE  = {mae:.5f}\")\n",
    "print(f\" • R²   = {r2:.3f}\")\n"
   ]
  },
  {
   "cell_type": "code",
   "execution_count": null,
   "metadata": {},
   "outputs": [
    {
     "data": {
      "image/png": "[encoded data removed]",
      "text/plain": [
       "<Figure size 640x480 with 1 Axes>"
      ]
     },
     "metadata": {},
     "output_type": "display_data"
    },
    {
     "name": "stdout",
     "output_type": "stream",
     "text": [
      "EVidx_ret_1              1.947355\n",
      "Brent_Price              0.000000\n",
      "Brent_i_lr_roll_std_3    0.000000\n",
      "Brent_i_lr_lag_1         0.000000\n",
      "Gas_i_lr_lag_2           0.000000\n",
      "Brent_i_lr_lag_2         0.000000\n",
      "Gas_i_lr_lag_3           0.000000\n",
      "Gas_i_lr_lag_5           0.000000\n",
      "Brent_i_lr_lag_5         0.000000\n",
      "Gas_i_lr_lag_7           0.000000\n",
      "dtype: float64\n"
     ]
    }
   ],
   "source": [
    "from sklearn.inspection import permutation_importance\n",
    "import pandas as pd\n",
    "import matplotlib.pyplot as plt\n",
    "\n",
    "# — 1) Compute permutation importances on your test set —\n",
    "# (assuming X_test, y_test from your hold-out split)\n",
    "perm = permutation_importance(\n",
    "    best_model,         # your tuned HGB regressor\n",
    "    X_test,             # features for hold-out\n",
    "    y_test,             # true returns\n",
    "    n_repeats=10,       # shuffle each feature 10×\n",
    "    random_state=42,\n",
    "    n_jobs=-1\n",
    ")\n",
    "\n",
    "# — 2) Build a Series and sort —\n",
    "feat_names = feat_energy + feat_evidx\n",
    "imp = pd.Series(perm.importances_mean, index=feat_names)\n",
    "imp = imp.sort_values(ascending=False)\n",
    "\n",
    "# — 3) Plot top 10 —\n",
    "plt.figure()\n",
    "imp.head(10).plot.barh()\n",
    "plt.title(\"Top 10 Permutation Importances (HGB on EVidx returns)\")\n",
    "plt.xlabel(\"Mean decrease in R² when shuffled\")\n",
    "plt.gca().invert_yaxis()\n",
    "plt.show()\n",
    "\n",
    "# — (Optional) print the values —\n",
    "print(imp.head(10))\n"
   ]
  },
  {
   "cell_type": "code",
   "execution_count": null,
   "metadata": {},
   "outputs": [
    {
     "ename": "NameError",
     "evalue": "name 'best_params' is not defined",
     "output_type": "error",
     "traceback": [
      "\u001b[0;31m---------------------------------------------------------------------------\u001b[0m",
      "\u001b[0;31mNameError\u001b[0m                                 Traceback (most recent call last)",
      "\u001b[1;32m/Users/shrutibose/Desktop/Citadel-women-datathon-2025/ml_eda_ev_automobile.ipynb Cell 19\u001b[0m line \u001b[0;36m1\n\u001b[1;32m     <a href='vscode-notebook-cell:/Users/shrutibose/Desktop/Citadel-women-datathon-2025/ml_eda_ev_automobile.ipynb#X23sZmlsZQ%3D%3D?line=14'>15</a>\u001b[0m y_tr, y_te \u001b[39m=\u001b[39m y_ab\u001b[39m.\u001b[39miloc[:split], y_ab\u001b[39m.\u001b[39miloc[split:]\n\u001b[1;32m     <a href='vscode-notebook-cell:/Users/shrutibose/Desktop/Citadel-women-datathon-2025/ml_eda_ev_automobile.ipynb#X23sZmlsZQ%3D%3D?line=16'>17</a>\u001b[0m \u001b[39m# 3) Fit the same tuned model (no energy features)\u001b[39;00m\n\u001b[0;32m---> <a href='vscode-notebook-cell:/Users/shrutibose/Desktop/Citadel-women-datathon-2025/ml_eda_ev_automobile.ipynb#X23sZmlsZQ%3D%3D?line=17'>18</a>\u001b[0m ab_model \u001b[39m=\u001b[39m HistGradientBoostingRegressor(\u001b[39m*\u001b[39m\u001b[39m*\u001b[39mbest_params, random_state\u001b[39m=\u001b[39m\u001b[39m42\u001b[39m)\n\u001b[1;32m     <a href='vscode-notebook-cell:/Users/shrutibose/Desktop/Citadel-women-datathon-2025/ml_eda_ev_automobile.ipynb#X23sZmlsZQ%3D%3D?line=18'>19</a>\u001b[0m ab_model\u001b[39m.\u001b[39mfit(X_tr, y_tr)\n\u001b[1;32m     <a href='vscode-notebook-cell:/Users/shrutibose/Desktop/Citadel-women-datathon-2025/ml_eda_ev_automobile.ipynb#X23sZmlsZQ%3D%3D?line=20'>21</a>\u001b[0m \u001b[39m# 4) Evaluate\u001b[39;00m\n",
      "\u001b[0;31mNameError\u001b[0m: name 'best_params' is not defined"
     ]
    }
   ],
   "source": [
    "from sklearn.ensemble import HistGradientBoostingRegressor\n",
    "from sklearn.metrics  import mean_squared_error, mean_absolute_error\n",
    "\n",
    "# 1) Build X_ablation using ONLY the EV‐index features:\n",
    "#    (we assume df_sect already exists with your EVidx_* columns and 'EVidx_ret_1')\n",
    "ablation_feats = [c for c in df_sect.columns if c.startswith('EVidx_')]\n",
    "\n",
    "X_ab = df_sect[ablation_feats]\n",
    "y_ab = df_sect['EVidx_ret_1']\n",
    "\n",
    "# 2) Chronological 80/20 split\n",
    "split = int(len(X_ab) * 0.8)\n",
    "X_tr, X_te = X_ab.iloc[:split], X_ab.iloc[split:]\n",
    "y_tr, y_te = y_ab.iloc[:split], y_ab.iloc[split:]\n",
    "\n",
    "# 3) Fit the same tuned model (no energy features)\n",
    "ab_model = HistGradientBoostingRegressor(**best_params, random_state=42)\n",
    "ab_model.fit(X_tr, y_tr)\n",
    "\n",
    "# 4) Evaluate\n",
    "pred_ab = ab_model.predict(X_te)\n",
    "rmse_ab = np.sqrt(mean_squared_error(y_te, pred_ab))\n",
    "mae_ab  = mean_absolute_error(y_te, pred_ab)\n",
    "\n",
    "print(f\"Ablation (no oil/gas) — RMSE: {rmse_ab:.5f}, MAE: {mae_ab:.5f}\")"
   ]
  },
  {
   "cell_type": "code",
   "execution_count": null,
   "metadata": {},
   "outputs": [
    {
     "ename": "NameError",
     "evalue": "name 'best_model' is not defined",
     "output_type": "error",
     "traceback": [
      "\u001b[0;31m---------------------------------------------------------------------------\u001b[0m",
      "\u001b[0;31mNameError\u001b[0m                                 Traceback (most recent call last)",
      "\u001b[1;32m/Users/shrutibose/Desktop/Citadel-women-datathon-2025/ml_eda_ev_automobile.ipynb Cell 20\u001b[0m line \u001b[0;36m4\n\u001b[1;32m      <a href='vscode-notebook-cell:/Users/shrutibose/Desktop/Citadel-women-datathon-2025/ml_eda_ev_automobile.ipynb#X52sZmlsZQ%3D%3D?line=0'>1</a>\u001b[0m \u001b[39mimport\u001b[39;00m \u001b[39mshap\u001b[39;00m\n\u001b[1;32m      <a href='vscode-notebook-cell:/Users/shrutibose/Desktop/Citadel-women-datathon-2025/ml_eda_ev_automobile.ipynb#X52sZmlsZQ%3D%3D?line=2'>3</a>\u001b[0m \u001b[39m# 1) Fit your final model (e.g. best_xgb from earlier)\u001b[39;00m\n\u001b[0;32m----> <a href='vscode-notebook-cell:/Users/shrutibose/Desktop/Citadel-women-datathon-2025/ml_eda_ev_automobile.ipynb#X52sZmlsZQ%3D%3D?line=3'>4</a>\u001b[0m model \u001b[39m=\u001b[39m best_model  \u001b[39m# or best_model if using HistGradientBoostingRegressor\u001b[39;00m\n\u001b[1;32m      <a href='vscode-notebook-cell:/Users/shrutibose/Desktop/Citadel-women-datathon-2025/ml_eda_ev_automobile.ipynb#X52sZmlsZQ%3D%3D?line=4'>5</a>\u001b[0m \u001b[39m# 3) Compute SHAP values on your hold-out set\u001b[39;00m\n\u001b[1;32m      <a href='vscode-notebook-cell:/Users/shrutibose/Desktop/Citadel-women-datathon-2025/ml_eda_ev_automobile.ipynb#X52sZmlsZQ%3D%3D?line=5'>6</a>\u001b[0m explainer \u001b[39m=\u001b[39m shap\u001b[39m.\u001b[39mExplainer(best_model, X_train) \u001b[39m# from your train/test split\u001b[39;00m\n",
      "\u001b[0;31mNameError\u001b[0m: name 'best_model' is not defined"
     ]
    }
   ],
   "source": [
    "import shap\n",
    "\n",
    "# 1) Fit your final model (e.g. best_xgb from earlier)\n",
    "model = best_model  # or best_model if using HistGradientBoostingRegressor\n",
    "# 3) Compute SHAP values on your hold-out set\n",
    "explainer = shap.Explainer(best_model, X_train) # from your train/test split\n",
    "shap_values = explainer.shap_values(X_holdout)\n",
    "\n",
    "# 4a) Global feature importance: mean(|SHAP|)\n",
    "shap.summary_plot(\n",
    "    shap_values, \n",
    "    X_holdout, \n",
    "    plot_type=\"bar\",\n",
    "    max_display=10\n",
    ")\n",
    "\n",
    "# 4b) Group by commodity\n",
    "brent_feats = [c for c in X_holdout.columns if c.startswith('Brent_')]\n",
    "gas_feats   = [c for c in X_holdout.columns if c.startswith('Gas_')]\n",
    "\n",
    "mean_shap = np.abs(shap_values).mean(axis=0)\n",
    "importances = pd.Series(mean_shap, index=X_holdout.columns)\n",
    "agg = {\n",
    "    'Brent total': importances[brent_feats].sum(),\n",
    "    'Gas total':   importances[gas_feats].sum()\n",
    "}\n",
    "print(pd.Series(agg))\n",
    "\n",
    "# 5) Detailed beeswarm for top features\n",
    "shap.summary_plot(shap_values, X_holdout)"
   ]
  },
  {
   "cell_type": "code",
   "execution_count": null,
   "metadata": {},
   "outputs": [
    {
     "name": "stdout",
     "output_type": "stream",
     "text": [
      "Fitting 5 folds for each of 24 candidates, totalling 120 fits\n",
      "→ Best CV MSE (neg): -2.846050869627914e-05\n",
      "→ Best hyperparameters: {'learning_rate': 0.1, 'max_depth': 3, 'max_iter': 300, 'min_samples_leaf': 20}\n",
      "\n",
      "Hold-out Results on Autoidx returns:\n",
      " • RMSE = 0.00112\n",
      " • MAE  = 0.00033\n",
      " • R²   = 0.994\n",
      "\n",
      "Ablation (no oil/gas) — RMSE: 0.00301, MAE: 0.00053\n"
     ]
    }
   ],
   "source": [
    "import numpy as np\n",
    "import pandas as pd\n",
    "from sklearn.ensemble        import HistGradientBoostingRegressor\n",
    "from sklearn.model_selection import TimeSeriesSplit, GridSearchCV\n",
    "from sklearn.metrics         import mean_squared_error, mean_absolute_error\n",
    "\n",
    "# — 0) Ensure Auto_index & features exist —\n",
    "auto_tickers = ['F','GM','HMC','HYMTF','MBGAF','NSANY','STLA','TM','VWAGY']\n",
    "merged['Auto_index'] = merged[auto_tickers].mean(axis=1)\n",
    "\n",
    "# Build df_auto with energy & index‐history features\n",
    "df_auto = merged.copy()\n",
    "for lag in [1,2,3]:\n",
    "    df_auto[f'Autoidx_lag_{lag}'] = df_auto['Auto_index'].shift(lag)\n",
    "df_auto['Autoidx_ret_1'] = df_auto['Auto_index'].pct_change(1)\n",
    "df_auto['Autoidx_vol_7'] = df_auto['Autoidx_ret_1'].rolling(7).std()\n",
    "\n",
    "feat_energy  = [c for c in df_auto.columns if c.startswith('Gas_') or c.startswith('Brent_')]\n",
    "feat_autoidx = [c for c in df_auto.columns if c.startswith('Autoidx_')]\n",
    "df_auto = df_auto.dropna(subset=feat_energy + feat_autoidx + ['Autoidx_ret_1'])\n",
    "\n",
    "# — 1) Prepare X and y for CV/hold-out —\n",
    "X = df_auto[feat_energy + feat_autoidx]\n",
    "y = df_auto['Autoidx_ret_1']\n",
    "\n",
    "# — 2) Time-series CV setup —\n",
    "tscv = TimeSeriesSplit(n_splits=5)\n",
    "\n",
    "# — 3) Define model + hyperparameter grid —\n",
    "hgb = HistGradientBoostingRegressor(random_state=42)\n",
    "param_grid = {\n",
    "    'max_iter':         [100, 300],\n",
    "    'max_depth':        [3, 5, 8],\n",
    "    'learning_rate':    [0.01, 0.1],\n",
    "    'min_samples_leaf': [20, 50],\n",
    "}\n",
    "\n",
    "# — 4) GridSearchCV over CV folds —\n",
    "grid = GridSearchCV(\n",
    "    estimator=hgb,\n",
    "    param_grid=param_grid,\n",
    "    cv=tscv,\n",
    "    scoring='neg_mean_squared_error',\n",
    "    n_jobs=-1,\n",
    "    verbose=1\n",
    ")\n",
    "grid.fit(X, y)\n",
    "\n",
    "print(\"→ Best CV MSE (neg):\", grid.best_score_)\n",
    "print(\"→ Best hyperparameters:\", grid.best_params_)\n",
    "\n",
    "# — 5) Chronological 80/20 hold-out evaluation —\n",
    "split = int(len(X) * 0.8)\n",
    "X_train, X_test = X.iloc[:split], X.iloc[split:]\n",
    "y_train, y_test = y.iloc[:split], y.iloc[split:]\n",
    "\n",
    "best_model = grid.best_estimator_\n",
    "y_pred = best_model.predict(X_test)\n",
    "\n",
    "rmse = np.sqrt(mean_squared_error(y_test, y_pred))\n",
    "mae  = mean_absolute_error(y_test, y_pred)\n",
    "r2   = best_model.score(X_test, y_test)\n",
    "\n",
    "print(f\"\\nHold-out Results on Autoidx returns:\")\n",
    "print(f\" • RMSE = {rmse:.5f}\")\n",
    "print(f\" • MAE  = {mae:.5f}\")\n",
    "print(f\" • R²   = {r2:.3f}\")\n",
    "\n",
    "# — 6) Ablation test: drop oil/gas features —\n",
    "X_ab = df_auto[feat_autoidx]\n",
    "X_tr_ab, X_te_ab = X_ab.iloc[:split], X_ab.iloc[split:]\n",
    "y_tr_ab, y_te_ab = y_train, y_test\n",
    "\n",
    "ab_model = HistGradientBoostingRegressor(**grid.best_params_, random_state=42)\n",
    "ab_model.fit(X_tr_ab, y_tr_ab)\n",
    "y_ab = ab_model.predict(X_te_ab)\n",
    "\n",
    "rmse_ab = np.sqrt(mean_squared_error(y_te_ab, y_ab))\n",
    "mae_ab  = mean_absolute_error(y_te_ab, y_ab)\n",
    "\n",
    "print(f\"\\nAblation (no oil/gas) — RMSE: {rmse_ab:.5f}, MAE: {mae_ab:.5f}\")\n"
   ]
  },
  {
   "cell_type": "code",
   "execution_count": null,
   "metadata": {},
   "outputs": [
    {
     "name": "stdout",
     "output_type": "stream",
     "text": [
      "Collecting shap\n",
      "  Downloading shap-0.47.2-cp312-cp312-macosx_11_0_arm64.whl.metadata (25 kB)\n",
      "Requirement already satisfied: numpy in /opt/anaconda3/lib/python3.12/site-packages (from shap) (1.26.4)\n",
      "Requirement already satisfied: scipy in /opt/anaconda3/lib/python3.12/site-packages (from shap) (1.13.1)\n",
      "Requirement already satisfied: scikit-learn in /opt/anaconda3/lib/python3.12/site-packages (from shap) (1.4.2)\n",
      "Requirement already satisfied: pandas in /opt/anaconda3/lib/python3.12/site-packages (from shap) (2.2.2)\n",
      "Requirement already satisfied: tqdm>=4.27.0 in /opt/anaconda3/lib/python3.12/site-packages (from shap) (4.66.4)\n",
      "Requirement already satisfied: packaging>20.9 in /opt/anaconda3/lib/python3.12/site-packages (from shap) (23.2)\n",
      "Collecting slicer==0.0.8 (from shap)\n",
      "  Downloading slicer-0.0.8-py3-none-any.whl.metadata (4.0 kB)\n",
      "Requirement already satisfied: numba>=0.54 in /opt/anaconda3/lib/python3.12/site-packages (from shap) (0.59.1)\n",
      "Requirement already satisfied: cloudpickle in /opt/anaconda3/lib/python3.12/site-packages (from shap) (2.2.1)\n",
      "Requirement already satisfied: typing-extensions in /opt/anaconda3/lib/python3.12/site-packages (from shap) (4.11.0)\n",
      "Requirement already satisfied: llvmlite<0.43,>=0.42.0dev0 in /opt/anaconda3/lib/python3.12/site-packages (from numba>=0.54->shap) (0.42.0)\n",
      "Requirement already satisfied: python-dateutil>=2.8.2 in /opt/anaconda3/lib/python3.12/site-packages (from pandas->shap) (2.9.0.post0)\n",
      "Requirement already satisfied: pytz>=2020.1 in /opt/anaconda3/lib/python3.12/site-packages (from pandas->shap) (2024.1)\n",
      "Requirement already satisfied: tzdata>=2022.7 in /opt/anaconda3/lib/python3.12/site-packages (from pandas->shap) (2023.3)\n",
      "Requirement already satisfied: joblib>=1.2.0 in /opt/anaconda3/lib/python3.12/site-packages (from scikit-learn->shap) (1.4.2)\n",
      "Requirement already satisfied: threadpoolctl>=2.0.0 in /opt/anaconda3/lib/python3.12/site-packages (from scikit-learn->shap) (2.2.0)\n",
      "Requirement already satisfied: six>=1.5 in /opt/anaconda3/lib/python3.12/site-packages (from python-dateutil>=2.8.2->pandas->shap) (1.16.0)\n",
      "Downloading shap-0.47.2-cp312-cp312-macosx_11_0_arm64.whl (546 kB)\n",
      "\u001b[2K   \u001b[90m━━━━━━━━━━━━━━━━━━━━━━━━━━━━━━━━━━━━━━━━\u001b[0m \u001b[32m546.9/546.9 kB\u001b[0m \u001b[31m7.2 MB/s\u001b[0m eta \u001b[36m0:00:00\u001b[0ma \u001b[36m0:00:01\u001b[0m\n",
      "\u001b[?25hDownloading slicer-0.0.8-py3-none-any.whl (15 kB)\n",
      "Installing collected packages: slicer, shap\n",
      "Successfully installed shap-0.47.2 slicer-0.0.8\n"
     ]
    }
   ],
   "source": [
    "!pip install shap"
   ]
  },
  {
   "cell_type": "code",
   "execution_count": null,
   "metadata": {},
   "outputs": [
    {
     "ename": "KeyError",
     "evalue": "'EVidx_ret_1'",
     "output_type": "error",
     "traceback": [
      "\u001b[0;31m---------------------------------------------------------------------------\u001b[0m",
      "\u001b[0;31mKeyError\u001b[0m                                  Traceback (most recent call last)",
      "File \u001b[0;32m/opt/anaconda3/lib/python3.12/site-packages/pandas/core/indexes/base.py:3805\u001b[0m, in \u001b[0;36mIndex.get_loc\u001b[0;34m(self, key)\u001b[0m\n\u001b[1;32m   3804\u001b[0m \u001b[39mtry\u001b[39;00m:\n\u001b[0;32m-> 3805\u001b[0m     \u001b[39mreturn\u001b[39;00m \u001b[39mself\u001b[39m\u001b[39m.\u001b[39m_engine\u001b[39m.\u001b[39mget_loc(casted_key)\n\u001b[1;32m   3806\u001b[0m \u001b[39mexcept\u001b[39;00m \u001b[39mKeyError\u001b[39;00m \u001b[39mas\u001b[39;00m err:\n",
      "File \u001b[0;32mindex.pyx:167\u001b[0m, in \u001b[0;36mpandas._libs.index.IndexEngine.get_loc\u001b[0;34m()\u001b[0m\n",
      "File \u001b[0;32mindex.pyx:196\u001b[0m, in \u001b[0;36mpandas._libs.index.IndexEngine.get_loc\u001b[0;34m()\u001b[0m\n",
      "File \u001b[0;32mpandas/_libs/hashtable_class_helper.pxi:7081\u001b[0m, in \u001b[0;36mpandas._libs.hashtable.PyObjectHashTable.get_item\u001b[0;34m()\u001b[0m\n",
      "File \u001b[0;32mpandas/_libs/hashtable_class_helper.pxi:7089\u001b[0m, in \u001b[0;36mpandas._libs.hashtable.PyObjectHashTable.get_item\u001b[0;34m()\u001b[0m\n",
      "\u001b[0;31mKeyError\u001b[0m: 'EVidx_ret_1'",
      "\nThe above exception was the direct cause of the following exception:\n",
      "\u001b[0;31mKeyError\u001b[0m                                  Traceback (most recent call last)",
      "\u001b[1;32m/Users/shrutibose/Desktop/Citadel-women-datathon-2025/ml_eda_ev_automobile.ipynb Cell 21\u001b[0m line \u001b[0;36m7\n\u001b[1;32m      <a href='vscode-notebook-cell:/Users/shrutibose/Desktop/Citadel-women-datathon-2025/ml_eda_ev_automobile.ipynb#X51sZmlsZQ%3D%3D?line=4'>5</a>\u001b[0m feat_ev    \u001b[39m=\u001b[39m [c \u001b[39mfor\u001b[39;00m c \u001b[39min\u001b[39;00m merged_fe\u001b[39m.\u001b[39mcolumns \u001b[39mif\u001b[39;00m c\u001b[39m.\u001b[39mstartswith(\u001b[39m'\u001b[39m\u001b[39mEVidx_\u001b[39m\u001b[39m'\u001b[39m) \u001b[39mand\u001b[39;00m c\u001b[39m!=\u001b[39m\u001b[39m'\u001b[39m\u001b[39mEVidx_ret_1\u001b[39m\u001b[39m'\u001b[39m]\n\u001b[1;32m      <a href='vscode-notebook-cell:/Users/shrutibose/Desktop/Citadel-women-datathon-2025/ml_eda_ev_automobile.ipynb#X51sZmlsZQ%3D%3D?line=5'>6</a>\u001b[0m X \u001b[39m=\u001b[39m merged_fe[feat_gas \u001b[39m+\u001b[39m feat_brent \u001b[39m+\u001b[39m feat_ev]\n\u001b[0;32m----> <a href='vscode-notebook-cell:/Users/shrutibose/Desktop/Citadel-women-datathon-2025/ml_eda_ev_automobile.ipynb#X51sZmlsZQ%3D%3D?line=6'>7</a>\u001b[0m y \u001b[39m=\u001b[39m merged_fe[\u001b[39m'\u001b[39m\u001b[39mEVidx_ret_1\u001b[39m\u001b[39m'\u001b[39m]\n\u001b[1;32m      <a href='vscode-notebook-cell:/Users/shrutibose/Desktop/Citadel-women-datathon-2025/ml_eda_ev_automobile.ipynb#X51sZmlsZQ%3D%3D?line=8'>9</a>\u001b[0m \u001b[39m# 2) Time-series CV splitter\u001b[39;00m\n\u001b[1;32m     <a href='vscode-notebook-cell:/Users/shrutibose/Desktop/Citadel-women-datathon-2025/ml_eda_ev_automobile.ipynb#X51sZmlsZQ%3D%3D?line=9'>10</a>\u001b[0m tscv \u001b[39m=\u001b[39m TimeSeriesSplit(n_splits\u001b[39m=\u001b[39m\u001b[39m5\u001b[39m)\n",
      "File \u001b[0;32m/opt/anaconda3/lib/python3.12/site-packages/pandas/core/frame.py:4102\u001b[0m, in \u001b[0;36mDataFrame.__getitem__\u001b[0;34m(self, key)\u001b[0m\n\u001b[1;32m   4100\u001b[0m \u001b[39mif\u001b[39;00m \u001b[39mself\u001b[39m\u001b[39m.\u001b[39mcolumns\u001b[39m.\u001b[39mnlevels \u001b[39m>\u001b[39m \u001b[39m1\u001b[39m:\n\u001b[1;32m   4101\u001b[0m     \u001b[39mreturn\u001b[39;00m \u001b[39mself\u001b[39m\u001b[39m.\u001b[39m_getitem_multilevel(key)\n\u001b[0;32m-> 4102\u001b[0m indexer \u001b[39m=\u001b[39m \u001b[39mself\u001b[39m\u001b[39m.\u001b[39mcolumns\u001b[39m.\u001b[39mget_loc(key)\n\u001b[1;32m   4103\u001b[0m \u001b[39mif\u001b[39;00m is_integer(indexer):\n\u001b[1;32m   4104\u001b[0m     indexer \u001b[39m=\u001b[39m [indexer]\n",
      "File \u001b[0;32m/opt/anaconda3/lib/python3.12/site-packages/pandas/core/indexes/base.py:3812\u001b[0m, in \u001b[0;36mIndex.get_loc\u001b[0;34m(self, key)\u001b[0m\n\u001b[1;32m   3807\u001b[0m     \u001b[39mif\u001b[39;00m \u001b[39misinstance\u001b[39m(casted_key, \u001b[39mslice\u001b[39m) \u001b[39mor\u001b[39;00m (\n\u001b[1;32m   3808\u001b[0m         \u001b[39misinstance\u001b[39m(casted_key, abc\u001b[39m.\u001b[39mIterable)\n\u001b[1;32m   3809\u001b[0m         \u001b[39mand\u001b[39;00m \u001b[39many\u001b[39m(\u001b[39misinstance\u001b[39m(x, \u001b[39mslice\u001b[39m) \u001b[39mfor\u001b[39;00m x \u001b[39min\u001b[39;00m casted_key)\n\u001b[1;32m   3810\u001b[0m     ):\n\u001b[1;32m   3811\u001b[0m         \u001b[39mraise\u001b[39;00m InvalidIndexError(key)\n\u001b[0;32m-> 3812\u001b[0m     \u001b[39mraise\u001b[39;00m \u001b[39mKeyError\u001b[39;00m(key) \u001b[39mfrom\u001b[39;00m \u001b[39merr\u001b[39;00m\n\u001b[1;32m   3813\u001b[0m \u001b[39mexcept\u001b[39;00m \u001b[39mTypeError\u001b[39;00m:\n\u001b[1;32m   3814\u001b[0m     \u001b[39m# If we have a listlike key, _check_indexing_error will raise\u001b[39;00m\n\u001b[1;32m   3815\u001b[0m     \u001b[39m#  InvalidIndexError. Otherwise we fall through and re-raise\u001b[39;00m\n\u001b[1;32m   3816\u001b[0m     \u001b[39m#  the TypeError.\u001b[39;00m\n\u001b[1;32m   3817\u001b[0m     \u001b[39mself\u001b[39m\u001b[39m.\u001b[39m_check_indexing_error(key)\n",
      "\u001b[0;31mKeyError\u001b[0m: 'EVidx_ret_1'"
     ]
    }
   ],
   "source": [
    "\n",
    "# 1) Prepare your feature matrix X and target y (as before)\n",
    "#    Make sure you’ve excluded EVidx_ret_1 from your X!\n",
    "feat_gas   = [c for c in merged_fe.columns if c.startswith('Gas_i_lr_')]\n",
    "feat_brent = [c for c in merged_fe.columns if c.startswith('Brent_i_lr_')]\n",
    "feat_ev    = [c for c in merged_fe.columns if c.startswith('EVidx_') and c!='EVidx_ret_1']\n",
    "X = merged_fe[feat_gas + feat_brent + feat_ev]\n",
    "y = merged_fe['EVidx_ret_1']\n",
    "\n",
    "# 2) Time-series CV splitter\n",
    "tscv = TimeSeriesSplit(n_splits=5)\n",
    "\n",
    "# 3) Set up XGBRegressor and a hyperparameter grid\n",
    "xgb = XGBRegressor(objective='reg:squarederror', random_state=42, tree_method='hist')\n",
    "param_grid = {\n",
    "    'n_estimators':    [100, 300, 500],\n",
    "    'max_depth':       [3, 5, 8],\n",
    "    'learning_rate':   [0.01, 0.1],\n",
    "    'subsample':       [0.7, 1.0],\n",
    "    'colsample_bytree':[0.7, 1.0],\n",
    "    'reg_alpha':       [0, 0.1],       # L1 regularization\n",
    "    'reg_lambda':      [1, 5],         # L2 regularization\n",
    "}\n",
    "\n",
    "# 4) GridSearchCV over your time splits\n",
    "grid_xgb = GridSearchCV(\n",
    "    estimator=xgb,\n",
    "    param_grid=param_grid,\n",
    "    cv=tscv,\n",
    "    scoring='neg_mean_squared_error',\n",
    "    n_jobs=-1,\n",
    "    verbose=1\n",
    ")\n",
    "\n",
    "# 5) Fit on the full series (CV happens inside)\n",
    "grid_xgb.fit(X, y)\n",
    "print(\"→ Best CV MSE (neg):\", grid_xgb.best_score_)\n",
    "print(\"→ Best hyperparameters:\", grid_xgb.best_params_)\n",
    "\n",
    "# 6) Hold-out evaluation (last 20% of dates)\n",
    "split = int(len(X) * 0.8)\n",
    "X_tr, X_te = X.iloc[:split], X.iloc[split:]\n",
    "y_tr, y_te = y.iloc[:split], y.iloc[split:]\n",
    "\n",
    "best_xgb = grid_xgb.best_estimator_\n",
    "y_pred   = best_xgb.predict(X_te)\n",
    "\n",
    "rmse = np.sqrt(mean_squared_error(y_te, y_pred))\n",
    "mae  = mean_absolute_error(y_te, y_pred)\n",
    "r2   = best_xgb.score(X_te, y_te)\n",
    "\n",
    "print(\"\\nHold-out Results on EVidx returns with XGBoost:\")\n",
    "print(f\" • RMSE = {rmse:.5f}\")\n",
    "print(f\" • MAE  = {mae:.5f}\")\n",
    "print(f\" • R²   = {r2:.3f}\")"
   ]
  },
  {
   "cell_type": "markdown",
   "metadata": {},
   "source": [
    "# Unused electrcity Data\n",
    "tested electrcity which just created noise"
   ]
  },
  {
   "cell_type": "code",
   "execution_count": null,
   "metadata": {},
   "outputs": [
    {
     "name": "stdout",
     "output_type": "stream",
     "text": [
      "Requirement already satisfied: pandas-datareader in /opt/anaconda3/lib/python3.12/site-packages (0.10.0)\n",
      "Requirement already satisfied: lxml in /opt/anaconda3/lib/python3.12/site-packages (from pandas-datareader) (5.2.1)\n",
      "Requirement already satisfied: pandas>=0.23 in /opt/anaconda3/lib/python3.12/site-packages (from pandas-datareader) (2.2.2)\n",
      "Requirement already satisfied: requests>=2.19.0 in /opt/anaconda3/lib/python3.12/site-packages (from pandas-datareader) (2.32.2)\n",
      "Requirement already satisfied: numpy>=1.26.0 in /opt/anaconda3/lib/python3.12/site-packages (from pandas>=0.23->pandas-datareader) (1.26.4)\n",
      "Requirement already satisfied: python-dateutil>=2.8.2 in /opt/anaconda3/lib/python3.12/site-packages (from pandas>=0.23->pandas-datareader) (2.9.0.post0)\n",
      "Requirement already satisfied: pytz>=2020.1 in /opt/anaconda3/lib/python3.12/site-packages (from pandas>=0.23->pandas-datareader) (2024.1)\n",
      "Requirement already satisfied: tzdata>=2022.7 in /opt/anaconda3/lib/python3.12/site-packages (from pandas>=0.23->pandas-datareader) (2023.3)\n",
      "Requirement already satisfied: charset-normalizer<4,>=2 in /opt/anaconda3/lib/python3.12/site-packages (from requests>=2.19.0->pandas-datareader) (2.0.4)\n",
      "Requirement already satisfied: idna<4,>=2.5 in /opt/anaconda3/lib/python3.12/site-packages (from requests>=2.19.0->pandas-datareader) (3.7)\n",
      "Requirement already satisfied: urllib3<3,>=1.21.1 in /opt/anaconda3/lib/python3.12/site-packages (from requests>=2.19.0->pandas-datareader) (2.2.2)\n",
      "Requirement already satisfied: certifi>=2017.4.17 in /opt/anaconda3/lib/python3.12/site-packages (from requests>=2.19.0->pandas-datareader) (2024.6.2)\n",
      "Requirement already satisfied: six>=1.5 in /opt/anaconda3/lib/python3.12/site-packages (from python-dateutil>=2.8.2->pandas>=0.23->pandas-datareader) (1.16.0)\n"
     ]
    }
   ],
   "source": [
    "!pip install pandas-datareader"
   ]
  },
  {
   "cell_type": "code",
   "execution_count": null,
   "metadata": {},
   "outputs": [
    {
     "name": "stdout",
     "output_type": "stream",
     "text": [
      "            Elec_Price\n",
      "DATE                  \n",
      "2018-09-01       0.138\n",
      "2018-10-01       0.136\n",
      "2018-11-01       0.134\n",
      "2018-12-01       0.135\n",
      "2019-01-01       0.135\n"
     ]
    }
   ],
   "source": [
    "# 1. Install & import the reader\n",
    "#    pip install pandas-datareader\n",
    "import pandas_datareader.data as web\n",
    "\n",
    "# 2. Set your date range\n",
    "start, end = '2018-09-01', '2025-05-01'\n",
    "\n",
    "# 3. Pull APU000072610 from FRED\n",
    "elec = web.DataReader('APU000072610', 'fred', start, end)\n",
    "\n",
    "# 4. Rename for clarity\n",
    "elec = elec.rename(columns={'APU000072610': 'Elec_Price'})\n",
    "\n",
    "# 5. Inspect\n",
    "print(elec.head())\n"
   ]
  },
  {
   "cell_type": "code",
   "execution_count": null,
   "metadata": {},
   "outputs": [],
   "source": [
    "# 1) Make sure the index is datetime and reindex to your business‐day index bidx\n",
    "elec.index = pd.to_datetime(elec.index)\n",
    "elec_daily = elec.reindex(bidx).ffill()\n",
    "\n",
    "# 2) Merge into your merged DataFrame\n",
    "merged = merged.join(elec_daily, how='inner')\n",
    "\n",
    "# 3) Now you’ll have Elec_Price on every trading day; you can engineer features:\n",
    "merged['Elec_ret_1'] = merged['Elec_Price'].pct_change(1)\n",
    "for lag in [1,2,3]:\n",
    "    merged[f'Elec_lag_{lag}'] = merged['Elec_Price'].shift(lag)\n",
    "for w in [7,14]:\n",
    "    merged[f'Elec_roll_mean_{w}'] = merged['Elec_Price'].rolling(w).mean()\n",
    "    merged[f'Elec_roll_std_{w}']  = merged['Elec_Price'].rolling(w).std()\n",
    "\n",
    "# 4) Drop any rows that now contain NaNs\n",
    "merged = merged.dropna()"
   ]
  },
  {
   "cell_type": "code",
   "execution_count": null,
   "metadata": {},
   "outputs": [],
   "source": [
    "feat_elec = [c for c in merged.columns if c.startswith('Elec_')]\n"
   ]
  },
  {
   "cell_type": "code",
   "execution_count": null,
   "metadata": {},
   "outputs": [],
   "source": [
    "df_sect = merged.copy()\n",
    "\n",
    "# --- 2) (Re-)create the EV‐index history features ---\n",
    "# you probably already ran this before, but do it again on the fresh df_sect\n",
    "for lag in [1,2,3]:\n",
    "    df_sect[f'EVidx_lag_{lag}'] = df_sect['EV_index'].shift(lag)\n",
    "df_sect['EVidx_ret_1'] = df_sect['EV_index'].pct_change(1)\n",
    "df_sect['EVidx_vol_7'] = df_sect['EVidx_ret_1'].rolling(7).std()\n",
    "\n",
    "# --- 3) Define your feature groups, now including electricity ---\n",
    "feat_energy = [c for c in df_sect.columns if c.startswith('Gas_') or c.startswith('Brent_')]\n",
    "feat_evidx  = [c for c in df_sect.columns if c.startswith('EVidx_')]\n",
    "feat_elec   = [c for c in df_sect.columns if c.startswith('Elec_')]\n",
    "\n",
    "# --- 4) Drop any rows with NaNs in your chosen features + target ---\n",
    "df_sect = df_sect.dropna(subset=feat_energy + feat_evidx + feat_elec + ['EVidx_ret_1'])\n",
    "\n",
    "# --- 5) Build X and y from this updated df_sect ---\n",
    "X = df_sect[feat_energy + feat_evidx + feat_elec]\n",
    "y = df_sect['EVidx_ret_1']"
   ]
  },
  {
   "cell_type": "code",
   "execution_count": null,
   "metadata": {},
   "outputs": [
    {
     "name": "stdout",
     "output_type": "stream",
     "text": [
      "Fitting 5 folds for each of 24 candidates, totalling 120 fits\n"
     ]
    },
    {
     "name": "stdout",
     "output_type": "stream",
     "text": [
      "→ Best CV MSE (neg): -0.00047179221602101126\n",
      "→ Best hyperparameters: {'learning_rate': 0.01, 'max_depth': 3, 'max_iter': 300, 'min_samples_leaf': 20}\n",
      "\n",
      "Hold-out Results on EVidx returns:\n",
      " • RMSE = 0.00516\n",
      " • MAE  = 0.00226\n",
      " • R²   = 0.985\n"
     ]
    }
   ],
   "source": [
    "# — 2) Define a TimeSeriesSplit for CV (no shuffling) —\n",
    "tscv = TimeSeriesSplit(n_splits=5)\n",
    "\n",
    "# — 3) Set up the HGB model and hyperparameter grid —\n",
    "hgb = HistGradientBoostingRegressor(random_state=42)\n",
    "\n",
    "param_grid = {\n",
    "    'max_iter':      [100, 300],       # number of boosting iterations\n",
    "    'max_depth':     [3, 5, 8],        # tree depth\n",
    "    'learning_rate': [0.01, 0.1],      # step size shrinkage\n",
    "    'min_samples_leaf': [20, 50],      # min samples per leaf\n",
    "}\n",
    "\n",
    "# — 4) Wrap in GridSearchCV —\n",
    "grid = GridSearchCV(\n",
    "    estimator=hgb,\n",
    "    param_grid=param_grid,\n",
    "    cv=tscv,\n",
    "    scoring='neg_mean_squared_error',\n",
    "    n_jobs=-1,\n",
    "    verbose=1\n",
    ")\n",
    "\n",
    "# — 5) Fit on your full series (CV happens internally) —\n",
    "grid.fit(X, y)\n",
    "\n",
    "print(\"→ Best CV MSE (neg):\", grid.best_score_)\n",
    "print(\"→ Best hyperparameters:\", grid.best_params_)\n",
    "\n",
    "# — 6) Final evaluation on hold-out 20% (chronological) —\n",
    "split = int(len(X) * 0.8)\n",
    "X_train, X_test = X.iloc[:split], X.iloc[split:]\n",
    "y_train, y_test = y.iloc[:split], y.iloc[split:]\n",
    "\n",
    "best_model = grid.best_estimator_\n",
    "pred = best_model.predict(X_test)\n",
    "\n",
    "rmse = np.sqrt(mean_squared_error(y_test, pred))\n",
    "mae  = mean_absolute_error(y_test, pred)\n",
    "r2   = best_model.score(X_test, y_test)\n",
    "\n",
    "print(f\"\\nHold-out Results on EVidx returns:\")\n",
    "print(f\" • RMSE = {rmse:.5f}\")\n",
    "print(f\" • MAE  = {mae:.5f}\")\n",
    "print(f\" • R²   = {r2:.3f}\")\n"
   ]
  }
 ],
 "metadata": {
  "kernelspec": {
   "display_name": "base",
   "language": "python",
   "name": "python3"
  },
  "language_info": {
   "codemirror_mode": {
    "name": "ipython",
    "version": 3
   },
   "file_extension": ".py",
   "mimetype": "text/x-python",
   "name": "python",
   "nbconvert_exporter": "python",
   "pygments_lexer": "ipython3",
   "version": "3.12.4"
  },
  "orig_nbformat": 4
 },
 "nbformat": 4,
 "nbformat_minor": 2
}
