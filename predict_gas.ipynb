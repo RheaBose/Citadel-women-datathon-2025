{
 "cells": [
  {
   "cell_type": "code",
   "execution_count": 71,
   "id": "7f6d93b3",
   "metadata": {},
   "outputs": [],
   "source": [
    "import pandas as pd\n",
    "\n",
    "brent = pd.read_csv(\"datathon data/crude_oil/BRENT.csv\")\n",
    "makeup = pd.read_csv(\"datathon data/monthly_gasoline_makeup_percentages.csv\")\n",
    "makeup = makeup[makeup['Type'] == 'Regular']\n",
    "gas_prices = pd.read_csv(\"datathon data/gas_prices/regular_formulated_gas_prices.csv\")\n",
    "\n",
    "brent = brent.rename({\"Price\":\"Brent_Price\"}, axis=1)\n",
    "# Ensure dates are in datetime format\n",
    "makeup['Date'] = pd.to_datetime(makeup['Date'])\n",
    "gas_prices['Date'] = pd.to_datetime(gas_prices['Date'])\n",
    "brent['Date'] = pd.to_datetime(brent['Date'])\n",
    "\n",
    "# Extract Year and Month in both DataFrames\n",
    "makeup['Year'] = makeup['Date'].dt.year\n",
    "makeup['Month'] = makeup['Date'].dt.month\n",
    "gas_prices['Year'] = gas_prices['Date'].dt.year\n",
    "gas_prices['Month'] = gas_prices['Date'].dt.month\n",
    "brent['Year'] = brent['Date'].dt.year\n",
    "brent['Month'] = brent['Date'].dt.month"
   ]
  },
  {
   "cell_type": "markdown",
   "id": "e3a0af16",
   "metadata": {},
   "source": [
    "## Interpolate Monthly Makeup to Weekly\n",
    "- same values for this month\n",
    "- linearly interpolate"
   ]
  },
  {
   "cell_type": "code",
   "execution_count": 56,
   "id": "34544bec",
   "metadata": {},
   "outputs": [
    {
     "data": {
      "text/plain": [
       "Index(['Date_String', 'Date', 'Retail_Price', 'Refining',\n",
       "       'Distribution_and_Marketing', 'Taxes', 'Crude_Oil', 'Type', 'Year',\n",
       "       'Month'],\n",
       "      dtype='object')"
      ]
     },
     "execution_count": 56,
     "metadata": {},
     "output_type": "execute_result"
    }
   ],
   "source": [
    "makeup.columns"
   ]
  },
  {
   "cell_type": "code",
   "execution_count": 72,
   "id": "ab575a16",
   "metadata": {},
   "outputs": [],
   "source": [
    "# Identify the first weekly entry of each month\n",
    "first_week = gas_prices.groupby(['Year', 'Month'])['Date'].min().reset_index()\n",
    "gas_prices_same = pd.merge(gas_prices, makeup, on=['Year', 'Month'], how='left').drop(columns=['Date_y', 'Date_String']).rename({\"Date_x\":\"Date\"}, axis=1)\n",
    "\n",
    "# Merge with monthly makeup data on Year and Month\n",
    "merged = pd.merge(first_week, makeup, on=['Year', 'Month'], how='left')\n",
    "\n",
    "# Now map these monthly values back to the gas_prices DataFrame\n",
    "gas_prices_combined = pd.merge(gas_prices, merged[['Date_x', 'Refining', 'Distribution_and_Marketing', 'Taxes', 'Crude_Oil']], \n",
    "                      left_on='Date', right_on='Date_x', how='left')\n",
    "\n",
    "# Drop the merge helper column\n",
    "gas_prices_combined.drop(columns='Date_x', inplace=True)\n",
    "\n",
    "gas_prices_linear = gas_prices_combined\n",
    "\n",
    "# Interpolate the missing values linearly\n",
    "for col in ['Refining', 'Distribution_and_Marketing', 'Taxes', 'Crude_Oil']:\n",
    "    gas_prices_linear[col] = gas_prices_linear[col].interpolate(method='linear', limit_direction='both')\n"
   ]
  },
  {
   "cell_type": "markdown",
   "id": "b639f9d1",
   "metadata": {},
   "source": [
    "## Aggregate Brent to Weekly (average)"
   ]
  },
  {
   "cell_type": "code",
   "execution_count": 70,
   "id": "bc9518a7",
   "metadata": {},
   "outputs": [
    {
     "data": {
      "text/html": [
       "<div>\n",
       "<style scoped>\n",
       "    .dataframe tbody tr th:only-of-type {\n",
       "        vertical-align: middle;\n",
       "    }\n",
       "\n",
       "    .dataframe tbody tr th {\n",
       "        vertical-align: top;\n",
       "    }\n",
       "\n",
       "    .dataframe thead th {\n",
       "        text-align: right;\n",
       "    }\n",
       "</style>\n",
       "<table border=\"1\" class=\"dataframe\">\n",
       "  <thead>\n",
       "    <tr style=\"text-align: right;\">\n",
       "      <th></th>\n",
       "      <th>Date</th>\n",
       "      <th>Brent Price</th>\n",
       "      <th>Commodity</th>\n",
       "      <th>Commodity_Simple</th>\n",
       "      <th>Unit</th>\n",
       "      <th>Year</th>\n",
       "      <th>Month</th>\n",
       "    </tr>\n",
       "  </thead>\n",
       "  <tbody>\n",
       "    <tr>\n",
       "      <th>0</th>\n",
       "      <td>2024-01-22</td>\n",
       "      <td>81.70</td>\n",
       "      <td>Brent Crude Oil</td>\n",
       "      <td>BRENT</td>\n",
       "      <td>Dollars per Barrel</td>\n",
       "      <td>2024</td>\n",
       "      <td>1</td>\n",
       "    </tr>\n",
       "    <tr>\n",
       "      <th>1</th>\n",
       "      <td>2024-01-19</td>\n",
       "      <td>80.71</td>\n",
       "      <td>Brent Crude Oil</td>\n",
       "      <td>BRENT</td>\n",
       "      <td>Dollars per Barrel</td>\n",
       "      <td>2024</td>\n",
       "      <td>1</td>\n",
       "    </tr>\n",
       "    <tr>\n",
       "      <th>2</th>\n",
       "      <td>2024-01-18</td>\n",
       "      <td>81.04</td>\n",
       "      <td>Brent Crude Oil</td>\n",
       "      <td>BRENT</td>\n",
       "      <td>Dollars per Barrel</td>\n",
       "      <td>2024</td>\n",
       "      <td>1</td>\n",
       "    </tr>\n",
       "    <tr>\n",
       "      <th>3</th>\n",
       "      <td>2024-01-17</td>\n",
       "      <td>78.88</td>\n",
       "      <td>Brent Crude Oil</td>\n",
       "      <td>BRENT</td>\n",
       "      <td>Dollars per Barrel</td>\n",
       "      <td>2024</td>\n",
       "      <td>1</td>\n",
       "    </tr>\n",
       "    <tr>\n",
       "      <th>4</th>\n",
       "      <td>2024-01-16</td>\n",
       "      <td>80.15</td>\n",
       "      <td>Brent Crude Oil</td>\n",
       "      <td>BRENT</td>\n",
       "      <td>Dollars per Barrel</td>\n",
       "      <td>2024</td>\n",
       "      <td>1</td>\n",
       "    </tr>\n",
       "    <tr>\n",
       "      <th>...</th>\n",
       "      <td>...</td>\n",
       "      <td>...</td>\n",
       "      <td>...</td>\n",
       "      <td>...</td>\n",
       "      <td>...</td>\n",
       "      <td>...</td>\n",
       "      <td>...</td>\n",
       "    </tr>\n",
       "    <tr>\n",
       "      <th>9564</th>\n",
       "      <td>1987-05-26</td>\n",
       "      <td>18.63</td>\n",
       "      <td>Brent Crude Oil</td>\n",
       "      <td>BRENT</td>\n",
       "      <td>Dollars per Barrel</td>\n",
       "      <td>1987</td>\n",
       "      <td>5</td>\n",
       "    </tr>\n",
       "    <tr>\n",
       "      <th>9565</th>\n",
       "      <td>1987-05-25</td>\n",
       "      <td>18.60</td>\n",
       "      <td>Brent Crude Oil</td>\n",
       "      <td>BRENT</td>\n",
       "      <td>Dollars per Barrel</td>\n",
       "      <td>1987</td>\n",
       "      <td>5</td>\n",
       "    </tr>\n",
       "    <tr>\n",
       "      <th>9566</th>\n",
       "      <td>1987-05-22</td>\n",
       "      <td>18.55</td>\n",
       "      <td>Brent Crude Oil</td>\n",
       "      <td>BRENT</td>\n",
       "      <td>Dollars per Barrel</td>\n",
       "      <td>1987</td>\n",
       "      <td>5</td>\n",
       "    </tr>\n",
       "    <tr>\n",
       "      <th>9567</th>\n",
       "      <td>1987-05-21</td>\n",
       "      <td>18.45</td>\n",
       "      <td>Brent Crude Oil</td>\n",
       "      <td>BRENT</td>\n",
       "      <td>Dollars per Barrel</td>\n",
       "      <td>1987</td>\n",
       "      <td>5</td>\n",
       "    </tr>\n",
       "    <tr>\n",
       "      <th>9568</th>\n",
       "      <td>1987-05-20</td>\n",
       "      <td>18.63</td>\n",
       "      <td>Brent Crude Oil</td>\n",
       "      <td>BRENT</td>\n",
       "      <td>Dollars per Barrel</td>\n",
       "      <td>1987</td>\n",
       "      <td>5</td>\n",
       "    </tr>\n",
       "  </tbody>\n",
       "</table>\n",
       "<p>9569 rows × 7 columns</p>\n",
       "</div>"
      ],
      "text/plain": [
       "           Date  Brent Price        Commodity Commodity_Simple  \\\n",
       "0    2024-01-22        81.70  Brent Crude Oil            BRENT   \n",
       "1    2024-01-19        80.71  Brent Crude Oil            BRENT   \n",
       "2    2024-01-18        81.04  Brent Crude Oil            BRENT   \n",
       "3    2024-01-17        78.88  Brent Crude Oil            BRENT   \n",
       "4    2024-01-16        80.15  Brent Crude Oil            BRENT   \n",
       "...         ...          ...              ...              ...   \n",
       "9564 1987-05-26        18.63  Brent Crude Oil            BRENT   \n",
       "9565 1987-05-25        18.60  Brent Crude Oil            BRENT   \n",
       "9566 1987-05-22        18.55  Brent Crude Oil            BRENT   \n",
       "9567 1987-05-21        18.45  Brent Crude Oil            BRENT   \n",
       "9568 1987-05-20        18.63  Brent Crude Oil            BRENT   \n",
       "\n",
       "                    Unit  Year  Month  \n",
       "0     Dollars per Barrel  2024      1  \n",
       "1     Dollars per Barrel  2024      1  \n",
       "2     Dollars per Barrel  2024      1  \n",
       "3     Dollars per Barrel  2024      1  \n",
       "4     Dollars per Barrel  2024      1  \n",
       "...                  ...   ...    ...  \n",
       "9564  Dollars per Barrel  1987      5  \n",
       "9565  Dollars per Barrel  1987      5  \n",
       "9566  Dollars per Barrel  1987      5  \n",
       "9567  Dollars per Barrel  1987      5  \n",
       "9568  Dollars per Barrel  1987      5  \n",
       "\n",
       "[9569 rows x 7 columns]"
      ]
     },
     "execution_count": 70,
     "metadata": {},
     "output_type": "execute_result"
    }
   ],
   "source": [
    "brent"
   ]
  },
  {
   "cell_type": "code",
   "execution_count": 73,
   "id": "9a843172",
   "metadata": {},
   "outputs": [],
   "source": [
    "brent_weekly = brent.resample('W-MON', on='Date')['Brent_Price'].mean().reset_index()\n",
    "gas_brent_linear = pd.merge(gas_prices_linear, brent_weekly, on='Date', how ='inner')\n",
    "gas_brent_same = pd.merge(gas_prices_same, brent_weekly, on='Date', how ='inner')"
   ]
  },
  {
   "cell_type": "code",
   "execution_count": 75,
   "id": "2eb6b8e0",
   "metadata": {},
   "outputs": [],
   "source": [
    "gas_brent_linear.to_csv(\"datathon data/gas_prices/regular_formulated_gas_prices_rf_linear.csv\")\n",
    "gas_brent_same.to_csv(\"datathon data/gas_prices/regular_formulated_gas_prices_rf_same.csv\")"
   ]
  },
  {
   "cell_type": "code",
   "execution_count": 76,
   "id": "7d89fa90",
   "metadata": {},
   "outputs": [
    {
     "data": {
      "text/plain": [
       "Index(['Date', 'Year', 'Type', 'Type_Clean', 'Unit', 'Geography', 'Price',\n",
       "       'Month', 'Refining', 'Distribution_and_Marketing', 'Taxes', 'Crude_Oil',\n",
       "       'Brent_Price'],\n",
       "      dtype='object')"
      ]
     },
     "execution_count": 76,
     "metadata": {},
     "output_type": "execute_result"
    }
   ],
   "source": [
    "gas_brent_linear.columns"
   ]
  },
  {
   "cell_type": "markdown",
   "id": "2f267bd2",
   "metadata": {},
   "source": [
    "### Feature Engineering"
   ]
  },
  {
   "cell_type": "code",
   "execution_count": 91,
   "id": "d03e3b93",
   "metadata": {},
   "outputs": [
    {
     "name": "stderr",
     "output_type": "stream",
     "text": [
      "/Users/yangzejia/anaconda3/lib/python3.11/site-packages/pandas/core/arraylike.py:396: RuntimeWarning: invalid value encountered in log\n",
      "  result = getattr(ufunc, method)(*inputs, **kwargs)\n",
      "/Users/yangzejia/anaconda3/lib/python3.11/site-packages/pandas/core/arraylike.py:396: RuntimeWarning: invalid value encountered in log\n",
      "  result = getattr(ufunc, method)(*inputs, **kwargs)\n"
     ]
    }
   ],
   "source": [
    "import numpy as np\n",
    "# Get the pct and logreturn\n",
    "for col in ['Price', 'Brent_Price', 'Refining', 'Taxes', 'Distribution_and_Marketing', 'Crude_Oil']:\n",
    "    gas_brent_linear[f'{col}_logreturn'] = np.log(gas_brent_linear[col] / gas_brent_linear[col].shift(1))\n",
    "    gas_brent_linear[f'{col}_pct'] = gas_brent_linear[col].pct_change()\n",
    "    gas_brent_same[f'{col}_logreturn'] = np.log(gas_brent_same[col] / gas_brent_same[col].shift(1))\n",
    "    gas_brent_same[f'{col}_pct'] = gas_brent_same[col].pct_change()"
   ]
  },
  {
   "cell_type": "markdown",
   "id": "0b2928e4",
   "metadata": {},
   "source": [
    "### Train XGBoost and Random Forest"
   ]
  },
  {
   "cell_type": "code",
   "execution_count": 96,
   "id": "eec1d78a",
   "metadata": {},
   "outputs": [],
   "source": [
    "from xgboost import XGBRegressor\n",
    "from sklearn.ensemble import RandomForestRegressor\n",
    "from sklearn.model_selection import train_test_split\n",
    "from sklearn.metrics import mean_squared_error"
   ]
  },
  {
   "cell_type": "code",
   "execution_count": 99,
   "id": "f0336e70",
   "metadata": {},
   "outputs": [
    {
     "name": "stdout",
     "output_type": "stream",
     "text": [
      "['Brent_Price_logreturn', 'Refining_logreturn', 'Taxes_logreturn', 'Distribution_and_Marketing_logreturn', 'Crude_Oil_logreturn']\n",
      "MSE: 0.00038749102327579455\n",
      "Feature Importantce                                 feature  importance\n",
      "2                       Taxes_logreturn    0.462318\n",
      "0                 Brent_Price_logreturn    0.195524\n",
      "3  Distribution_and_Marketing_logreturn    0.183352\n",
      "4                   Crude_Oil_logreturn    0.083464\n",
      "1                    Refining_logreturn    0.075342\n"
     ]
    },
    {
     "data": {
      "image/png": "[encoded data removed]",
      "text/plain": [
       "<Figure size 1000x600 with 1 Axes>"
      ]
     },
     "metadata": {},
     "output_type": "display_data"
    }
   ],
   "source": [
    "# Drop NA rows due to lag\n",
    "gas_brent_linear = gas_brent_linear.dropna()\n",
    "\n",
    "# Features and target, to fit log return \n",
    "feature_cols = [col for col in gas_brent_linear.columns if '_logreturn' in col and col != 'Price_logreturn']\n",
    "print(feature_cols)\n",
    "X = gas_brent_linear[feature_cols]\n",
    "y = gas_brent_linear['Price_logreturn']  # or 'Price' or 'Price_pct'\n",
    "\n",
    "# Train/test split\n",
    "X_train, X_test, y_train, y_test = train_test_split(X, y, test_size=0.2, shuffle=False)\n",
    "\n",
    "# Model\n",
    "model = XGBRegressor()\n",
    "model.fit(X_train, y_train)\n",
    "y_pred = model.predict(X_test)\n",
    "\n",
    "print(\"MSE:\", mean_squared_error(y_test, y_pred))\n",
    "\n",
    "importance = model.feature_importances_\n",
    "feat_importance = pd.DataFrame({'feature': X.columns, 'importance': importance})\n",
    "feat_importance = feat_importance.sort_values('importance', ascending=False)\n",
    "\n",
    "print(\"Feature Importantce\", feat_importance)\n",
    "\n",
    "plt.figure(figsize=(10, 6))\n",
    "sns.barplot(x='importance', y='feature', data=feat_importance)\n",
    "plt.title(\"Feature Importance, logreturn vs logreturn linear\")\n",
    "plt.tight_layout()\n",
    "plt.show()\n"
   ]
  },
  {
   "cell_type": "code",
   "execution_count": 113,
   "id": "1d9a1a01",
   "metadata": {},
   "outputs": [
    {
     "name": "stdout",
     "output_type": "stream",
     "text": [
      "['Price_lag_1', 'Refining', 'Distribution_and_Marketing', 'Taxes', 'Crude_Oil', 'Brent_Price', 'Brent_Price_logreturn', 'Refining_logreturn', 'Taxes_logreturn', 'Distribution_and_Marketing_logreturn', 'Crude_Oil_logreturn']\n",
      "MSE: 0.05931326878982444\n",
      "Feature Importantce                                  feature  importance\n",
      "3                                  Taxes    0.571032\n",
      "0                            Price_lag_1    0.415242\n",
      "5                            Brent_Price    0.011093\n",
      "9   Distribution_and_Marketing_logreturn    0.000533\n",
      "1                               Refining    0.000364\n",
      "4                              Crude_Oil    0.000355\n",
      "8                        Taxes_logreturn    0.000350\n",
      "10                   Crude_Oil_logreturn    0.000343\n",
      "6                  Brent_Price_logreturn    0.000272\n",
      "7                     Refining_logreturn    0.000249\n",
      "2             Distribution_and_Marketing    0.000167\n"
     ]
    }
   ],
   "source": [
    "lag = 1\n",
    "gas_brent_linear[f'Price_lag_{lag}'] = gas_brent_linear['Price'].shift(lag)\n",
    "\n",
    "# Features and target, to fit log return \n",
    "feature_cols = [\n",
    "    f'Price_lag_{lag}',\n",
    "        'Refining', 'Distribution_and_Marketing', 'Taxes', 'Crude_Oil',\n",
    "       'Brent_Price', 'Brent_Price_logreturn',\n",
    "        'Refining_logreturn',\n",
    "       'Taxes_logreturn',  'Distribution_and_Marketing_logreturn',\n",
    "        'Crude_Oil_logreturn',\n",
    "       ]\n",
    "print(feature_cols)\n",
    "X = gas_brent_linear[feature_cols]\n",
    "y = gas_brent_linear['Price']  # or 'Price' or 'Price_pct'\n",
    "\n",
    "# Train/test split\n",
    "X_train, X_test, y_train, y_test = train_test_split(X, y, test_size=0.2, shuffle=False)\n",
    "\n",
    "# Model\n",
    "model = XGBRegressor()\n",
    "model.fit(X_train, y_train)\n",
    "y_pred = model.predict(X_test)\n",
    "\n",
    "print(\"MSE:\", mean_squared_error(y_test, y_pred))\n",
    "\n",
    "importance = model.feature_importances_\n",
    "feat_importance = pd.DataFrame({'feature': X.columns, 'importance': importance})\n",
    "feat_importance = feat_importance.sort_values('importance', ascending=False)\n",
    "\n",
    "print(\"Feature Importantce\", feat_importance)"
   ]
  },
  {
   "cell_type": "code",
   "execution_count": 114,
   "id": "d5709b95",
   "metadata": {},
   "outputs": [
    {
     "name": "stdout",
     "output_type": "stream",
     "text": [
      "['Price_lag_1', 'Refining', 'Distribution_and_Marketing', 'Taxes', 'Crude_Oil', 'Brent_Price', 'Brent_Price_logreturn', 'Refining_logreturn', 'Taxes_logreturn', 'Distribution_and_Marketing_logreturn', 'Crude_Oil_logreturn']\n",
      "MSE: 0.000381098053318308\n",
      "Feature Importantce                                  feature  importance\n",
      "8                        Taxes_logreturn    0.436199\n",
      "6                  Brent_Price_logreturn    0.137690\n",
      "9   Distribution_and_Marketing_logreturn    0.131914\n",
      "2             Distribution_and_Marketing    0.046224\n",
      "3                                  Taxes    0.043145\n",
      "7                     Refining_logreturn    0.041830\n",
      "10                   Crude_Oil_logreturn    0.038725\n",
      "1                               Refining    0.034164\n",
      "4                              Crude_Oil    0.033444\n",
      "5                            Brent_Price    0.031940\n",
      "0                            Price_lag_1    0.024725\n"
     ]
    }
   ],
   "source": [
    "feature_cols = [f'Price_lag_{lag}',\n",
    "        'Refining', 'Distribution_and_Marketing', 'Taxes', 'Crude_Oil',\n",
    "       'Brent_Price', 'Brent_Price_logreturn',\n",
    "        'Refining_logreturn',\n",
    "       'Taxes_logreturn',  'Distribution_and_Marketing_logreturn',\n",
    "        'Crude_Oil_logreturn',\n",
    "       ]\n",
    "print(feature_cols)\n",
    "X = gas_brent_linear[feature_cols]\n",
    "y = gas_brent_linear['Price_logreturn']  # or 'Price' or 'Price_pct'\n",
    "\n",
    "# Train/test split\n",
    "X_train, X_test, y_train, y_test = train_test_split(X, y, test_size=0.2, shuffle=False)\n",
    "\n",
    "# Model\n",
    "model = XGBRegressor()\n",
    "model.fit(X_train, y_train)\n",
    "y_pred = model.predict(X_test)\n",
    "\n",
    "print(\"MSE:\", mean_squared_error(y_test, y_pred))\n",
    "\n",
    "importance = model.feature_importances_\n",
    "feat_importance = pd.DataFrame({'feature': X.columns, 'importance': importance})\n",
    "feat_importance = feat_importance.sort_values('importance', ascending=False)\n",
    "\n",
    "print(\"Feature Importantce\", feat_importance)\n"
   ]
  },
  {
   "cell_type": "code",
   "execution_count": null,
   "id": "27d102f5",
   "metadata": {},
   "outputs": [],
   "source": []
  }
 ],
 "metadata": {
  "kernelspec": {
   "display_name": "base",
   "language": "python",
   "name": "python3"
  },
  "language_info": {
   "codemirror_mode": {
    "name": "ipython",
    "version": 3
   },
   "file_extension": ".py",
   "mimetype": "text/x-python",
   "name": "python",
   "nbconvert_exporter": "python",
   "pygments_lexer": "ipython3",
   "version": "3.11.5"
  }
 },
 "nbformat": 4,
 "nbformat_minor": 5
}
